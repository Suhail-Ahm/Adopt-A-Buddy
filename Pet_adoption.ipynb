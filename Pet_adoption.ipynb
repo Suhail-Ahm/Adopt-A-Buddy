{
  "nbformat": 4,
  "nbformat_minor": 0,
  "metadata": {
    "colab": {
      "name": "Pet adoption.ipynb",
      "provenance": [],
      "collapsed_sections": [
        "ku3CBt4jSmm8"
      ]
    },
    "kernelspec": {
      "name": "python3",
      "display_name": "Python 3"
    }
  },
  "cells": [
    {
      "cell_type": "code",
      "metadata": {
        "id": "bpqiRp-QXQsb",
        "outputId": "35388fa9-e134-4558-9fa8-5c486c4a3294",
        "colab": {
          "base_uri": "https://localhost:8080/",
          "height": 34
        }
      },
      "source": [
        "from google.colab import drive\n",
        "drive.mount('/content/gdrive')"
      ],
      "execution_count": null,
      "outputs": [
        {
          "output_type": "stream",
          "text": [
            "Drive already mounted at /content/gdrive; to attempt to forcibly remount, call drive.mount(\"/content/gdrive\", force_remount=True).\n"
          ],
          "name": "stdout"
        }
      ]
    },
    {
      "cell_type": "code",
      "metadata": {
        "id": "hzf3ypYVN_ha",
        "outputId": "3a960a33-1dab-4c04-a284-485179c9ea5e",
        "colab": {
          "base_uri": "https://localhost:8080/",
          "height": 370
        }
      },
      "source": [
        "!pip install catboost\n",
        "!pip install scikit-optimize"
      ],
      "execution_count": null,
      "outputs": [
        {
          "output_type": "stream",
          "text": [
            "Requirement already satisfied: catboost in /usr/local/lib/python3.6/dist-packages (0.24)\n",
            "Requirement already satisfied: six in /usr/local/lib/python3.6/dist-packages (from catboost) (1.15.0)\n",
            "Requirement already satisfied: numpy>=1.16.0 in /usr/local/lib/python3.6/dist-packages (from catboost) (1.18.5)\n",
            "Requirement already satisfied: graphviz in /usr/local/lib/python3.6/dist-packages (from catboost) (0.10.1)\n",
            "Requirement already satisfied: pandas>=0.24.0 in /usr/local/lib/python3.6/dist-packages (from catboost) (1.0.5)\n",
            "Requirement already satisfied: scipy in /usr/local/lib/python3.6/dist-packages (from catboost) (1.4.1)\n",
            "Requirement already satisfied: plotly in /usr/local/lib/python3.6/dist-packages (from catboost) (4.4.1)\n",
            "Requirement already satisfied: matplotlib in /usr/local/lib/python3.6/dist-packages (from catboost) (3.2.2)\n",
            "Requirement already satisfied: pytz>=2017.2 in /usr/local/lib/python3.6/dist-packages (from pandas>=0.24.0->catboost) (2018.9)\n",
            "Requirement already satisfied: python-dateutil>=2.6.1 in /usr/local/lib/python3.6/dist-packages (from pandas>=0.24.0->catboost) (2.8.1)\n",
            "Requirement already satisfied: retrying>=1.3.3 in /usr/local/lib/python3.6/dist-packages (from plotly->catboost) (1.3.3)\n",
            "Requirement already satisfied: pyparsing!=2.0.4,!=2.1.2,!=2.1.6,>=2.0.1 in /usr/local/lib/python3.6/dist-packages (from matplotlib->catboost) (2.4.7)\n",
            "Requirement already satisfied: kiwisolver>=1.0.1 in /usr/local/lib/python3.6/dist-packages (from matplotlib->catboost) (1.2.0)\n",
            "Requirement already satisfied: cycler>=0.10 in /usr/local/lib/python3.6/dist-packages (from matplotlib->catboost) (0.10.0)\n",
            "Requirement already satisfied: scikit-optimize in /usr/local/lib/python3.6/dist-packages (0.7.4)\n",
            "Requirement already satisfied: numpy>=1.11.0 in /usr/local/lib/python3.6/dist-packages (from scikit-optimize) (1.18.5)\n",
            "Requirement already satisfied: pyaml>=16.9 in /usr/local/lib/python3.6/dist-packages (from scikit-optimize) (20.4.0)\n",
            "Requirement already satisfied: scikit-learn>=0.19.1 in /usr/local/lib/python3.6/dist-packages (from scikit-optimize) (0.22.2.post1)\n",
            "Requirement already satisfied: scipy>=0.18.0 in /usr/local/lib/python3.6/dist-packages (from scikit-optimize) (1.4.1)\n",
            "Requirement already satisfied: joblib>=0.11 in /usr/local/lib/python3.6/dist-packages (from scikit-optimize) (0.16.0)\n",
            "Requirement already satisfied: PyYAML in /usr/local/lib/python3.6/dist-packages (from pyaml>=16.9->scikit-optimize) (3.13)\n"
          ],
          "name": "stdout"
        }
      ]
    },
    {
      "cell_type": "code",
      "metadata": {
        "id": "ilauc0toYWpK"
      },
      "source": [
        "import pandas as pd\n",
        "from time import time\n",
        "import pprint\n",
        "import joblib\n",
        "from sklearn.multioutput import MultiOutputClassifier\n",
        "from sklearn.svm import SVC\n",
        "from sklearn.tree import DecisionTreeClassifier\n",
        "from sklearn.ensemble import BaggingClassifier,RandomForestClassifier , AdaBoostClassifier\n",
        "from xgboost import XGBClassifier\n",
        "from sklearn.preprocessing import OneHotEncoder, StandardScaler\n",
        "import matplotlib.pyplot as plt\n",
        "from sklearn.model_selection import train_test_split\n",
        "import sklearn\n",
        "from catboost import CatBoostClassifier\n",
        "from google.colab import files\n",
        "# Model selection\n",
        "from sklearn.model_selection import StratifiedKFold\n",
        "import seaborn as sn\n",
        "from sklearn.impute import KNNImputer\n",
        "import numpy as np\n",
        "# Metrics\n",
        "from sklearn.metrics import roc_auc_score, accuracy_score, f1_score\n",
        "from sklearn.metrics import make_scorer\n",
        "\n",
        "from skopt import BayesSearchCV\n",
        "from skopt.callbacks import DeadlineStopper, VerboseCallback, DeltaXStopper\n",
        "from skopt.space import Real, Categorical, Integer\n",
        "\n",
        "from lightgbm import LGBMClassifier"
      ],
      "execution_count": null,
      "outputs": []
    },
    {
      "cell_type": "markdown",
      "metadata": {
        "id": "EVHZ1HgujGUl"
      },
      "source": [
        "## PET CATEGORY"
      ]
    },
    {
      "cell_type": "code",
      "metadata": {
        "id": "l0rHiHvWAlry"
      },
      "source": [
        "train = pd.read_csv(r\"/content/gdrive/My Drive/Pet adoption/train.csv\")\n",
        "X_test = pd.read_csv(r\"/content/gdrive/My Drive/Pet adoption/test.csv\")"
      ],
      "execution_count": null,
      "outputs": []
    },
    {
      "cell_type": "code",
      "metadata": {
        "id": "8l6-IBCEewby",
        "outputId": "7cadfe65-6081-4b72-d713-60637a6c997b",
        "colab": {
          "base_uri": "https://localhost:8080/"
        }
      },
      "source": [
        "train.head()"
      ],
      "execution_count": null,
      "outputs": [
        {
          "output_type": "execute_result",
          "data": {
            "text/html": [
              "<div>\n",
              "<style scoped>\n",
              "    .dataframe tbody tr th:only-of-type {\n",
              "        vertical-align: middle;\n",
              "    }\n",
              "\n",
              "    .dataframe tbody tr th {\n",
              "        vertical-align: top;\n",
              "    }\n",
              "\n",
              "    .dataframe thead th {\n",
              "        text-align: right;\n",
              "    }\n",
              "</style>\n",
              "<table border=\"1\" class=\"dataframe\">\n",
              "  <thead>\n",
              "    <tr style=\"text-align: right;\">\n",
              "      <th></th>\n",
              "      <th>pet_id</th>\n",
              "      <th>issue_date</th>\n",
              "      <th>listing_date</th>\n",
              "      <th>condition</th>\n",
              "      <th>color_type</th>\n",
              "      <th>length(m)</th>\n",
              "      <th>height(cm)</th>\n",
              "      <th>X1</th>\n",
              "      <th>X2</th>\n",
              "      <th>breed_category</th>\n",
              "      <th>pet_category</th>\n",
              "    </tr>\n",
              "  </thead>\n",
              "  <tbody>\n",
              "    <tr>\n",
              "      <th>0</th>\n",
              "      <td>ANSL_69903</td>\n",
              "      <td>2016-07-10 00:00:00</td>\n",
              "      <td>2016-09-21 16:25:00</td>\n",
              "      <td>2.0</td>\n",
              "      <td>Brown Tabby</td>\n",
              "      <td>0.80</td>\n",
              "      <td>7.78</td>\n",
              "      <td>13</td>\n",
              "      <td>9</td>\n",
              "      <td>0.0</td>\n",
              "      <td>1</td>\n",
              "    </tr>\n",
              "    <tr>\n",
              "      <th>1</th>\n",
              "      <td>ANSL_66892</td>\n",
              "      <td>2013-11-21 00:00:00</td>\n",
              "      <td>2018-12-27 17:47:00</td>\n",
              "      <td>1.0</td>\n",
              "      <td>White</td>\n",
              "      <td>0.72</td>\n",
              "      <td>14.19</td>\n",
              "      <td>13</td>\n",
              "      <td>9</td>\n",
              "      <td>0.0</td>\n",
              "      <td>2</td>\n",
              "    </tr>\n",
              "    <tr>\n",
              "      <th>2</th>\n",
              "      <td>ANSL_69750</td>\n",
              "      <td>2014-09-28 00:00:00</td>\n",
              "      <td>2016-10-19 08:24:00</td>\n",
              "      <td>NaN</td>\n",
              "      <td>Brown</td>\n",
              "      <td>0.15</td>\n",
              "      <td>40.90</td>\n",
              "      <td>15</td>\n",
              "      <td>4</td>\n",
              "      <td>2.0</td>\n",
              "      <td>4</td>\n",
              "    </tr>\n",
              "    <tr>\n",
              "      <th>3</th>\n",
              "      <td>ANSL_71623</td>\n",
              "      <td>2016-12-31 00:00:00</td>\n",
              "      <td>2019-01-25 18:30:00</td>\n",
              "      <td>1.0</td>\n",
              "      <td>White</td>\n",
              "      <td>0.62</td>\n",
              "      <td>17.82</td>\n",
              "      <td>0</td>\n",
              "      <td>1</td>\n",
              "      <td>0.0</td>\n",
              "      <td>2</td>\n",
              "    </tr>\n",
              "    <tr>\n",
              "      <th>4</th>\n",
              "      <td>ANSL_57969</td>\n",
              "      <td>2017-09-28 00:00:00</td>\n",
              "      <td>2017-11-19 09:38:00</td>\n",
              "      <td>2.0</td>\n",
              "      <td>Black</td>\n",
              "      <td>0.50</td>\n",
              "      <td>11.06</td>\n",
              "      <td>18</td>\n",
              "      <td>4</td>\n",
              "      <td>0.0</td>\n",
              "      <td>1</td>\n",
              "    </tr>\n",
              "  </tbody>\n",
              "</table>\n",
              "</div>"
            ],
            "text/plain": [
              "       pet_id           issue_date  ... breed_category  pet_category\n",
              "0  ANSL_69903  2016-07-10 00:00:00  ...            0.0             1\n",
              "1  ANSL_66892  2013-11-21 00:00:00  ...            0.0             2\n",
              "2  ANSL_69750  2014-09-28 00:00:00  ...            2.0             4\n",
              "3  ANSL_71623  2016-12-31 00:00:00  ...            0.0             2\n",
              "4  ANSL_57969  2017-09-28 00:00:00  ...            0.0             1\n",
              "\n",
              "[5 rows x 11 columns]"
            ]
          },
          "metadata": {
            "tags": []
          },
          "execution_count": 105
        }
      ]
    },
    {
      "cell_type": "code",
      "metadata": {
        "id": "hC-rapvHjmHj"
      },
      "source": [
        "X_train = train.iloc[:,:9]\n",
        "y_train1 = train.iloc[:,9:10]\n",
        "y_train2 = train.iloc[:,10:]"
      ],
      "execution_count": null,
      "outputs": []
    },
    {
      "cell_type": "code",
      "metadata": {
        "id": "ZVHHxtxDiv_e"
      },
      "source": [
        "X_train['condition'] = X_train['condition'].fillna(-1)\n",
        "X_test['condition'] = X_test['condition'].fillna(-1)"
      ],
      "execution_count": null,
      "outputs": []
    },
    {
      "cell_type": "code",
      "metadata": {
        "id": "V86AdKi3jlrD"
      },
      "source": [
        "X_train['label'] = 'train'\n",
        "X_test['label'] = 'test'\n",
        "df_ = pd.concat([X_train,X_test])\n",
        "dummies = pd.get_dummies(df_['color_type'])\n",
        "dummies1 = pd.get_dummies(df_['condition'])\n",
        "NEW = pd.concat([df_,dummies],axis='columns')\n",
        "NEW = pd.concat([NEW,dummies1],axis='columns')"
      ],
      "execution_count": null,
      "outputs": []
    },
    {
      "cell_type": "code",
      "metadata": {
        "id": "6r0-SjVjUqom"
      },
      "source": [
        "NEW['length(cm)'] = NEW['length(m)']*100\n",
        "NEW.drop('length(m)',axis = 1,inplace = True)\n",
        "NEW['lh'] = (NEW['length(cm)']*NEW['height(cm)']) / 100\n",
        "NEW['X1_X2'] = NEW['X1']*NEW['X2']\n",
        "NEW['l_zero'] = np.where(NEW['length(cm)'] == 0,1,0)"
      ],
      "execution_count": null,
      "outputs": []
    },
    {
      "cell_type": "code",
      "metadata": {
        "id": "C2S3KyAZofKq"
      },
      "source": [
        "NEW['1stnum'] = NEW['pet_id'].str[5:6].astype(str).astype(int)\n",
        "NEW['1st2num'] = NEW['pet_id'].str[5:7].astype(str).astype(int)"
      ],
      "execution_count": null,
      "outputs": []
    },
    {
      "cell_type": "code",
      "metadata": {
        "id": "yRDI6xTRjlxq"
      },
      "source": [
        "NEW['issue_date'] = pd.to_datetime(NEW['issue_date'])\n",
        "NEW['listing_date'] =pd.to_datetime(NEW['listing_date'])\n",
        "\n",
        "NEW['issue_date_year'] = NEW['issue_date'].dt.year\n",
        "NEW['issue_date_month'] = NEW['issue_date'].dt.month\n",
        "NEW['issue_date_week'] = NEW['issue_date'].dt.week\n",
        "NEW['issue_date_day'] = NEW['issue_date'].dt.day\n",
        "\n",
        "NEW['listing_date_year'] = NEW['listing_date'].dt.year\n",
        "NEW['listing_date_month'] = NEW['listing_date'].dt.month\n",
        "NEW['listing_date_week'] = NEW['listing_date'].dt.week\n",
        "NEW['listing_date_day'] = NEW['listing_date'].dt.day\n",
        "NEW['listing_date_hour'] = NEW['listing_date'].dt.hour\n",
        "NEW['difference_years'] = NEW['listing_date_year'] - NEW['issue_date_year']"
      ],
      "execution_count": null,
      "outputs": []
    },
    {
      "cell_type": "code",
      "metadata": {
        "id": "MC6zxCyNncW-"
      },
      "source": [
        "x=[]\n",
        "for d in NEW['listing_date']:\n",
        "    y=d.year+(d.month/12.0)+(d.day/365.0)\n",
        "    x.append(y)\n",
        "NEW['modified_listing_date']=x\n",
        "\n",
        "x=[]\n",
        "for d in NEW['issue_date']:\n",
        "    y=d.year+(d.month/12.0)+(d.day/365.0)\n",
        "    x.append(y)\n",
        "\n",
        "NEW['modified_issue_date']=x\n",
        "NEW['took_time']=abs(NEW['modified_listing_date']-NEW['modified_issue_date'])"
      ],
      "execution_count": null,
      "outputs": []
    },
    {
      "cell_type": "code",
      "metadata": {
        "id": "Gf27o_UOIV5g"
      },
      "source": [
        "train_df = NEW[NEW['label'] == 'train']\n",
        "test_df = NEW[NEW['label'] == 'test']"
      ],
      "execution_count": null,
      "outputs": []
    },
    {
      "cell_type": "code",
      "metadata": {
        "id": "bT51fAkbIsY6"
      },
      "source": [
        "train_df_p = train_df.drop(['label','color_type','modified_listing_date','modified_issue_date'], axis=1)\n",
        "test_df_p = test_df.drop(['label','color_type','modified_listing_date','modified_issue_date'], axis=1)"
      ],
      "execution_count": null,
      "outputs": []
    },
    {
      "cell_type": "code",
      "metadata": {
        "id": "FCIi2p6LH2_E"
      },
      "source": [
        "train_df_b = pd.concat([train_df_p,train['pet_category']],axis='columns')\n",
        "test_df_b = test_df.drop(['label','color_type','modified_listing_date','modified_issue_date'], axis=1)\n"
      ],
      "execution_count": null,
      "outputs": []
    },
    {
      "cell_type": "markdown",
      "metadata": {
        "id": "FisPkBFYuW5D"
      },
      "source": [
        "## BayesianSearch CV"
      ]
    },
    {
      "cell_type": "code",
      "metadata": {
        "id": "tq5W8Ak-Sl6k"
      },
      "source": [
        "# Reporting util for different optimizers\n",
        "def report_perf(optimizer, X, y, title, callbacks=None):\n",
        "    \"\"\"\n",
        "    A wrapper for measuring time and performances of different optmizers\n",
        "    \n",
        "    optimizer = a sklearn or a skopt optimizer\n",
        "    X = the training set \n",
        "    y = our target\n",
        "    title = a string label for the experiment\n",
        "    \"\"\"\n",
        "    start = time()\n",
        "    if callbacks:\n",
        "        optimizer.fit(X, y, callback=callbacks)\n",
        "    else:\n",
        "        optimizer.fit(X, y)\n",
        "    d=pd.DataFrame(optimizer.cv_results_)\n",
        "    best_score = optimizer.best_score_\n",
        "    best_score_std = d.iloc[optimizer.best_index_].std_test_score\n",
        "    best_params = optimizer.best_params_\n",
        "    print((title + \" took %.2f seconds,  candidates checked: %d, best CV score: %.3f \"\n",
        "           +u\"\\u00B1\"+\" %.3f\") % (time() - start, \n",
        "                                  len(optimizer.cv_results_['params']),\n",
        "                                  best_score,\n",
        "                                  best_score_std))    \n",
        "    print('Best parameters:')\n",
        "    pprint.pprint(best_params)\n",
        "    print()\n",
        "    return best_params"
      ],
      "execution_count": null,
      "outputs": []
    },
    {
      "cell_type": "code",
      "metadata": {
        "id": "K4-4XGZMu3AQ"
      },
      "source": [
        "# Converting average precision score into a scorer suitable for model selection\n",
        "roc_auc = make_scorer(f1_score, average='weighted',greater_is_better=True)"
      ],
      "execution_count": null,
      "outputs": []
    },
    {
      "cell_type": "code",
      "metadata": {
        "id": "85QKs8xou28a"
      },
      "source": [
        "# Setting a 5-fold stratified cross-validation (note: shuffle=True)\n",
        "skf = StratifiedKFold(n_splits=5, shuffle=True, random_state=0)"
      ],
      "execution_count": null,
      "outputs": []
    },
    {
      "cell_type": "code",
      "metadata": {
        "id": "oPGm1zGGMOP0"
      },
      "source": [
        "# Initializing a CatBoostClassifier\n",
        "c = CatBoostClassifier(thread_count=2, verbose = False)\n",
        "x = XGBClassifier()\n",
        "l = LGBMClassifier()\n"
      ],
      "execution_count": null,
      "outputs": []
    },
    {
      "cell_type": "code",
      "metadata": {
        "id": "rrAN8GRLMOAl"
      },
      "source": [
        "# Defining your search space\n",
        "cat = {'iterations': Integer(100, 500),\n",
        "                 'depth': Integer(1, 10),\n",
        "                 'learning_rate': Real(0.01, 1.0, 'log-uniform'),\n",
        "                 'random_strength': Real(1e-9, 10, 'log-uniform'),\n",
        "                 'bagging_temperature': Real(0.0, 1.0),\n",
        "                 'border_count': Integer(1, 255),\n",
        "                 'l2_leaf_reg': Integer(2, 30),}\n",
        "               \n",
        "\n",
        "# Defining your search space\n",
        "xgb = {'max_depth': np.arange(5, 40),\n",
        "                 'subsample': np.arange(0.1,1,0.1),\n",
        "                 'min_child_weight': np.arange(1, 50),\n",
        "                 'reg_lambda': np.arange(1, 10),\n",
        "                 'reg_alpha': np.arange(1, 10),\n",
        "                 'n_estimators': np.arange(10, 500,10),\n",
        "                 'learning_rate':  np.arange(0.01, 0.1,0.01)}\n",
        "\n",
        "lgm = {'max_depth': np.arange(5, 40),\n",
        "                 'subsample': np.arange(0.1,1,0.1),\n",
        "                 'min_child_weight': np.arange(0.00, 50),\n",
        "                 'reg_lambda': np.arange(1, 10),\n",
        "                 'reg_alpha': np.arange(1, 10),\n",
        "                 'n_estimators': np.arange(10, 500,10),\n",
        "                 'learning_rate':  np.arange(0.01, 0.1,0.01)}\n"
      ],
      "execution_count": null,
      "outputs": []
    },
    {
      "cell_type": "code",
      "metadata": {
        "id": "42ZbiAJavP6d"
      },
      "source": [
        "opt = BayesSearchCV(c,\n",
        "                    cat,\n",
        "                    scoring=roc_auc,\n",
        "                    cv=skf,\n",
        "                    n_iter=100,\n",
        "                    n_jobs=1,  # use just 1 job with CatBoost in order to avoid segmentation fault\n",
        "                    return_train_score=False,\n",
        "                    refit=True,\n",
        "                    optimizer_kwargs={'base_estimator': 'GP'},\n",
        "                    random_state=42)"
      ],
      "execution_count": null,
      "outputs": []
    },
    {
      "cell_type": "code",
      "metadata": {
        "id": "AJQ7LAYh87O4"
      },
      "source": [
        "best_params = report_perf(opt, train_df_p.iloc[:,3:], y_train2,'catboost', callbacks=[VerboseCallback(100), DeadlineStopper(60*10)])"
      ],
      "execution_count": null,
      "outputs": []
    },
    {
      "cell_type": "code",
      "metadata": {
        "id": "I6SZJ1xhvZ5U"
      },
      "source": [
        "best_params = report_perf(opt, train_df_b.iloc[:,3:], y_train1,'catboost', callbacks=[VerboseCallback(100), DeadlineStopper(60*10)])"
      ],
      "execution_count": null,
      "outputs": []
    },
    {
      "cell_type": "markdown",
      "metadata": {
        "id": "xZT4EIdSwk7a"
      },
      "source": [
        "## XGBoost Classifier for Pet Category"
      ]
    },
    {
      "cell_type": "markdown",
      "metadata": {
        "id": "fRYafXn7Rfdl"
      },
      "source": [
        "('learning_rate', 0.05),\n",
        "             ('max_depth', 37),\n",
        "             ('min_child_weight', 6),\n",
        "             ('n_estimators', 130),\n",
        "             ('reg_alpha', 2),\n",
        "             ('reg_lambda', 5),\n",
        "             ('subsample', 0.2)])\n",
        "\n",
        "[('learning_rate', 0.08),\n",
        "             ('max_depth', 35),\n",
        "             ('min_child_weight', 15),\n",
        "             ('n_estimators', 470),\n",
        "             ('reg_alpha', 8),\n",
        "             ('reg_lambda', 1),\n",
        "             ('subsample', 0.2)]\n",
        "\n",
        "('learning_rate', 0.08),\n",
        "             ('max_depth', 35),\n",
        "             ('min_child_weight', 15),\n",
        "             ('n_estimators', 470),\n",
        "             ('reg_alpha', 8),\n",
        "             ('reg_lambda', 1),\n",
        "             ('subsample', 0.2)]                          "
      ]
    },
    {
      "cell_type": "code",
      "metadata": {
        "id": "-bVveyWVqQdZ",
        "outputId": "53ca5a76-3ab1-490f-f0a6-cfff91532577",
        "colab": {
          "base_uri": "https://localhost:8080/",
          "height": 121
        }
      },
      "source": [
        "X_train2, X_test2, y_train2_, y_test2 = train_test_split(train_df_p.iloc[:,3:], y_train2, test_size=0.20,random_state=44,stratify=y_train2)\n",
        "\n",
        "clf1 = XGBClassifier().fit(X_train2, y_train2_)\n",
        "y_pred2 = clf1.predict(X_test2)\n",
        "print(sklearn.metrics.f1_score(y_test2,y_pred2,average='weighted'))"
      ],
      "execution_count": null,
      "outputs": [
        {
          "output_type": "stream",
          "text": [
            "/usr/local/lib/python3.6/dist-packages/sklearn/preprocessing/_label.py:235: DataConversionWarning: A column-vector y was passed when a 1d array was expected. Please change the shape of y to (n_samples, ), for example using ravel().\n",
            "  y = column_or_1d(y, warn=True)\n",
            "/usr/local/lib/python3.6/dist-packages/sklearn/preprocessing/_label.py:268: DataConversionWarning: A column-vector y was passed when a 1d array was expected. Please change the shape of y to (n_samples, ), for example using ravel().\n",
            "  y = column_or_1d(y, warn=True)\n"
          ],
          "name": "stderr"
        },
        {
          "output_type": "stream",
          "text": [
            "0.898223457407381\n"
          ],
          "name": "stdout"
        }
      ]
    },
    {
      "cell_type": "code",
      "metadata": {
        "id": "uz3S6OoG6My6"
      },
      "source": [
        "pet = clf1.predict(test_df_p.iloc[:,3:])\n",
        "test_df_b['pet_category'] = pet"
      ],
      "execution_count": null,
      "outputs": []
    },
    {
      "cell_type": "markdown",
      "metadata": {
        "id": "CDsRUb-OjaJn"
      },
      "source": [
        "## XGBoost Classifier for Breed Category"
      ]
    },
    {
      "cell_type": "markdown",
      "metadata": {
        "id": "EutYrOvqLMYr"
      },
      "source": [
        "[('learning_rate', 0.05),\n",
        "             ('max_depth', 37),\n",
        "             ('min_child_weight', 6),\n",
        "             ('n_estimators', 220),\n",
        "             ('reg_alpha', 2),\n",
        "             ('reg_lambda', 5),\n",
        "             ('subsample', 0.2)]\n",
        "('learning_rate', 0.05),\n",
        "             ('max_depth', 37),\n",
        "             ('min_child_weight', 6),\n",
        "             ('n_estimators', 220),\n",
        "             ('reg_alpha', 2),\n",
        "             ('reg_lambda', 5),\n",
        "             ('subsample', 0.2)        \n",
        "\n",
        "                "
      ]
    },
    {
      "cell_type": "code",
      "metadata": {
        "id": "8-xB64SEejz9",
        "outputId": "8d5ac8ae-d83c-4775-9be0-1fbb8edfbc38",
        "colab": {
          "base_uri": "https://localhost:8080/"
        }
      },
      "source": [
        "X_train1, X_test1, y_train1_, y_test1 = train_test_split(train_df_b.iloc[:,3:], y_train1, test_size=.20,random_state=44,stratify=y_train1)\n",
        "\n",
        "clf = XGBClassifier().fit(X_train1, y_train1_)\n",
        "y_pred1 = clf.predict(X_test1)\n",
        "print(sklearn.metrics.f1_score(y_test1,y_pred1,average='weighted'))"
      ],
      "execution_count": null,
      "outputs": [
        {
          "output_type": "stream",
          "text": [
            "/usr/local/lib/python3.6/dist-packages/sklearn/preprocessing/_label.py:235: DataConversionWarning: A column-vector y was passed when a 1d array was expected. Please change the shape of y to (n_samples, ), for example using ravel().\n",
            "  y = column_or_1d(y, warn=True)\n",
            "/usr/local/lib/python3.6/dist-packages/sklearn/preprocessing/_label.py:268: DataConversionWarning: A column-vector y was passed when a 1d array was expected. Please change the shape of y to (n_samples, ), for example using ravel().\n",
            "  y = column_or_1d(y, warn=True)\n"
          ],
          "name": "stderr"
        },
        {
          "output_type": "stream",
          "text": [
            "0.9071981144838769\n"
          ],
          "name": "stdout"
        }
      ]
    },
    {
      "cell_type": "markdown",
      "metadata": {
        "id": "Qi0BgbMoIr8S"
      },
      "source": [
        "## CatBoost Classifier for Pet and Breed Category"
      ]
    },
    {
      "cell_type": "code",
      "metadata": {
        "id": "mIN2C8-8IrXY",
        "outputId": "504a491b-49c1-4d7a-db9e-bf3498160841",
        "colab": {
          "base_uri": "https://localhost:8080/",
          "height": 34
        }
      },
      "source": [
        "X_train2, X_test2, y_train2_, y_test2 = train_test_split(train_df_p.iloc[:,3:], y_train2, test_size=0.20,random_state=44,stratify=y_train2)\n",
        "\n",
        "clf1 = CatBoostClassifier(bagging_temperature= 0.7995534416071731,\n",
        "             border_count = 112,\n",
        "             depth = 6,\n",
        "             iterations = 386,\n",
        "             l2_leaf_reg = 27,\n",
        "             learning_rate = 0.27168289873702833,\n",
        "             random_strength = 1.744940909365023e-05,verbose=0).fit(X_train2, y_train2_)\n",
        "y_pred2 = clf1.predict(X_test2)\n",
        "print(sklearn.metrics.accuracy_score(y_test2,y_pred2)*100)"
      ],
      "execution_count": null,
      "outputs": [
        {
          "output_type": "stream",
          "text": [
            "90.54950889301831\n"
          ],
          "name": "stdout"
        }
      ]
    },
    {
      "cell_type": "code",
      "metadata": {
        "id": "dPbnoW6ASVNO"
      },
      "source": [
        "pet = clf1.predict(test_df_p.iloc[:,3:])\n",
        "test_df_b['pet_category'] = pet"
      ],
      "execution_count": null,
      "outputs": []
    },
    {
      "cell_type": "code",
      "metadata": {
        "id": "tIPDoKH3Iqr4",
        "outputId": "37cdbf19-715c-4b9d-e75d-4760734b4979",
        "colab": {
          "base_uri": "https://localhost:8080/",
          "height": 34
        }
      },
      "source": [
        "X_train1, X_test1, y_train1_, y_test1 = train_test_split(train_df_b.iloc[:,3:], y_train1, test_size=.20,random_state=44,stratify=y_train1)\n",
        "\n",
        "clf = CatBoostClassifier(bagging_temperature= 0.41010395885331385,\n",
        "             border_count = 186,\n",
        "             depth = 9,\n",
        "             iterations = 266,\n",
        "             l2_leaf_reg = 21,\n",
        "             learning_rate =  0.0673344419215237,\n",
        "             random_strength =3.230824361824754e-06,verbose=0).fit(X_train1, y_train1_)\n",
        "y_pred1 = clf.predict(X_test1)\n",
        "print(sklearn.metrics.accuracy_score(y_test1,y_pred1)*100)"
      ],
      "execution_count": null,
      "outputs": [
        {
          "output_type": "stream",
          "text": [
            "90.73533315635784\n"
          ],
          "name": "stdout"
        }
      ]
    },
    {
      "cell_type": "markdown",
      "metadata": {
        "id": "HQYyabmYmNGo"
      },
      "source": [
        "## LightGBM"
      ]
    },
    {
      "cell_type": "markdown",
      "metadata": {
        "id": "1HPeUNa4w8ff"
      },
      "source": [
        "[('bagging_temperature', 0.9732984017054159),\n",
        "             ('border_count', 253),\n",
        "             ('colsample_bylevel', 0.7844325590226278),\n",
        "             ('depth', 1),\n",
        "             ('iterations', 499),\n",
        "             ('l2_leaf_reg', 4),\n",
        "             ('learning_rate', 0.09837750765695877),\n",
        "             ('random_strength', 8.465671519617828e-09)"
      ]
    },
    {
      "cell_type": "code",
      "metadata": {
        "id": "43VOwHD7mMAI",
        "outputId": "28368d38-f254-4c9f-828a-7a3e47218200",
        "colab": {
          "base_uri": "https://localhost:8080/",
          "height": 121
        }
      },
      "source": [
        "X_train2, X_test2, y_train2_, y_test2 = train_test_split(train_df_p.iloc[:,3:], y_train2, test_size=0.20,random_state=44,stratify=y_train2)\n",
        "\n",
        "clf1 = LGBMClassifier().fit(X_train2, y_train2_)\n",
        "y_pred2 = clf1.predict(X_test2)\n",
        "print(sklearn.metrics.accuracy_score(y_test2,y_pred2))"
      ],
      "execution_count": null,
      "outputs": [
        {
          "output_type": "stream",
          "text": [
            "/usr/local/lib/python3.6/dist-packages/sklearn/preprocessing/_label.py:235: DataConversionWarning: A column-vector y was passed when a 1d array was expected. Please change the shape of y to (n_samples, ), for example using ravel().\n",
            "  y = column_or_1d(y, warn=True)\n",
            "/usr/local/lib/python3.6/dist-packages/sklearn/preprocessing/_label.py:268: DataConversionWarning: A column-vector y was passed when a 1d array was expected. Please change the shape of y to (n_samples, ), for example using ravel().\n",
            "  y = column_or_1d(y, warn=True)\n"
          ],
          "name": "stderr"
        },
        {
          "output_type": "stream",
          "text": [
            "0.9073533315635784\n"
          ],
          "name": "stdout"
        }
      ]
    },
    {
      "cell_type": "code",
      "metadata": {
        "id": "wXM6NzaAnuXQ"
      },
      "source": [
        "pet = clf1.predict(test_df_p.iloc[:,3:])\n",
        "test_df_b['pet_category'] = pet"
      ],
      "execution_count": null,
      "outputs": []
    },
    {
      "cell_type": "markdown",
      "metadata": {
        "id": "3vWzq6nFww4c"
      },
      "source": [
        "[('bagging_temperature', 0.9555156939606648),\n",
        "             ('border_count', 2),\n",
        "             ('colsample_bylevel', 0.06842400861393462),\n",
        "             ('depth', 9),\n",
        "             ('iterations', 115),\n",
        "             ('l2_leaf_reg', 24),\n",
        "             ('learning_rate', 0.010100697732652058),\n",
        "             ('random_strength', 5.0528974362458925)]"
      ]
    },
    {
      "cell_type": "code",
      "metadata": {
        "id": "gGZIdhmplkj2",
        "outputId": "a88f0a38-6cf7-49ea-bb71-637bacc34b32",
        "colab": {
          "base_uri": "https://localhost:8080/",
          "height": 121
        }
      },
      "source": [
        "X_train1, X_test1, y_train1_, y_test1 = train_test_split(train_df_b.iloc[:,3:], y_train1, test_size=.20,random_state=44,stratify=y_train1)\n",
        "\n",
        "clf = LGBMClassifier().fit(X_train1, y_train1_)\n",
        "y_pred1 = clf.predict(X_test1)\n",
        "print(sklearn.metrics.accuracy_score(y_test1,y_pred1))"
      ],
      "execution_count": null,
      "outputs": [
        {
          "output_type": "stream",
          "text": [
            "/usr/local/lib/python3.6/dist-packages/sklearn/preprocessing/_label.py:235: DataConversionWarning: A column-vector y was passed when a 1d array was expected. Please change the shape of y to (n_samples, ), for example using ravel().\n",
            "  y = column_or_1d(y, warn=True)\n",
            "/usr/local/lib/python3.6/dist-packages/sklearn/preprocessing/_label.py:268: DataConversionWarning: A column-vector y was passed when a 1d array was expected. Please change the shape of y to (n_samples, ), for example using ravel().\n",
            "  y = column_or_1d(y, warn=True)\n"
          ],
          "name": "stderr"
        },
        {
          "output_type": "stream",
          "text": [
            "0.9031059198301036\n"
          ],
          "name": "stdout"
        }
      ]
    },
    {
      "cell_type": "markdown",
      "metadata": {
        "id": "-lpJuwrmYlhz"
      },
      "source": [
        "## F1-score(local)"
      ]
    },
    {
      "cell_type": "code",
      "metadata": {
        "id": "8BW3VV1xnVUU",
        "outputId": "f779bae9-2c1a-4c6e-fb11-7508dc620553",
        "colab": {
          "base_uri": "https://localhost:8080/",
          "height": 34
        }
      },
      "source": [
        "s1=f1_score(y_test1,y_pred1,average='weighted')\n",
        "s2=f1_score(y_test2,y_pred2,average='weighted')\n",
        "accuracy=100*((s1+s2)/2)\n",
        "accuracy"
      ],
      "execution_count": null,
      "outputs": [
        {
          "output_type": "execute_result",
          "data": {
            "text/plain": [
              "90.79118686141672"
            ]
          },
          "metadata": {
            "tags": []
          },
          "execution_count": 100
        }
      ]
    },
    {
      "cell_type": "markdown",
      "metadata": {
        "id": "piEFoOqcPGSF"
      },
      "source": [
        "## Submission file"
      ]
    },
    {
      "cell_type": "code",
      "metadata": {
        "id": "fCnrFsYY2kew"
      },
      "source": [
        "a = test_df['pet_id']\n",
        "y = clf.predict(test_df_b.iloc[:,3:])\n",
        "z = clf1.predict(test_df_p.iloc[:,3:])"
      ],
      "execution_count": null,
      "outputs": []
    },
    {
      "cell_type": "code",
      "metadata": {
        "id": "t0WVz0sVbj0d",
        "outputId": "f69ef422-e25d-4931-bc58-c5ddb096b710",
        "colab": {
          "base_uri": "https://localhost:8080/"
        }
      },
      "source": [
        "Prediction = pd.DataFrame({\"pet_id\":a , \"breed_category\":y.ravel(),\"pet_category\":z.ravel()})\n",
        "Prediction.to_csv(\"Pet adoption new.csv\",index=False)\n",
        "files.download('Pet adoption new.csv') "
      ],
      "execution_count": null,
      "outputs": [
        {
          "output_type": "display_data",
          "data": {
            "application/javascript": [
              "\n",
              "    async function download(id, filename, size) {\n",
              "      if (!google.colab.kernel.accessAllowed) {\n",
              "        return;\n",
              "      }\n",
              "      const div = document.createElement('div');\n",
              "      const label = document.createElement('label');\n",
              "      label.textContent = `Downloading \"${filename}\": `;\n",
              "      div.appendChild(label);\n",
              "      const progress = document.createElement('progress');\n",
              "      progress.max = size;\n",
              "      div.appendChild(progress);\n",
              "      document.body.appendChild(div);\n",
              "\n",
              "      const buffers = [];\n",
              "      let downloaded = 0;\n",
              "\n",
              "      const channel = await google.colab.kernel.comms.open(id);\n",
              "      // Send a message to notify the kernel that we're ready.\n",
              "      channel.send({})\n",
              "\n",
              "      for await (const message of channel.messages) {\n",
              "        // Send a message to notify the kernel that we're ready.\n",
              "        channel.send({})\n",
              "        if (message.buffers) {\n",
              "          for (const buffer of message.buffers) {\n",
              "            buffers.push(buffer);\n",
              "            downloaded += buffer.byteLength;\n",
              "            progress.value = downloaded;\n",
              "          }\n",
              "        }\n",
              "      }\n",
              "      const blob = new Blob(buffers, {type: 'application/binary'});\n",
              "      const a = document.createElement('a');\n",
              "      a.href = window.URL.createObjectURL(blob);\n",
              "      a.download = filename;\n",
              "      div.appendChild(a);\n",
              "      a.click();\n",
              "      div.remove();\n",
              "    }\n",
              "  "
            ],
            "text/plain": [
              "<IPython.core.display.Javascript object>"
            ]
          },
          "metadata": {
            "tags": []
          }
        },
        {
          "output_type": "display_data",
          "data": {
            "application/javascript": [
              "download(\"download_3be7c0a3-8edb-4123-8cdb-3130878809da\", \"Pet adoption new.csv\", 137259)"
            ],
            "text/plain": [
              "<IPython.core.display.Javascript object>"
            ]
          },
          "metadata": {
            "tags": []
          }
        }
      ]
    }
  ]
}